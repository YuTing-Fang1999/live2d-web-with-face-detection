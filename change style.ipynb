{
 "cells": [
  {
   "cell_type": "code",
   "execution_count": 1,
   "id": "12de5a10",
   "metadata": {},
   "outputs": [],
   "source": [
    "# sample version\n",
    "import matplotlib.pyplot as plt\n",
    "import numpy as np\n",
    "import cv2\n",
    " \n",
    "def style(img_path, save_path):\n",
    "    \n",
    "    img = cv2.imread(img_path, cv2.IMREAD_UNCHANGED)\n",
    "    alpha = img[:,:,3]\n",
    "    alpha = alpha.reshape(alpha.shape[0], alpha.shape[1], 1)\n",
    "\n",
    "    img = img[:,:,:3]\n",
    "#     res = cv2.xphoto.oilPainting(img, 7, 1) 8-9\n",
    "#     gray, res = cv2.pencilSketch(img, sigma_s=100, sigma_r=0.1, shade_factor=0.02) 6-7\n",
    "#     res = cv2.stylization(img, sigma_s=200, sigma_r=0.6) 4-5\n",
    "#     res = cv2.detailEnhance(img, sigma_s=100, sigma_r=0.1) 2-3\n",
    "\n",
    "\n",
    "    cv2.imwrite(save_path,np.append(res, alpha, axis=2))\n",
    "    \n",
    "dir_path = 'Samples/Resources/Haru/Haru.2048/'\n",
    "style(dir_path+'texture_00.png', dir_path+'texture_08.png')\n",
    "style(dir_path+'texture_01.png', dir_path+'texture_09.png')"
   ]
  },
  {
   "cell_type": "code",
   "execution_count": null,
   "id": "f3091441",
   "metadata": {},
   "outputs": [],
   "source": []
  }
 ],
 "metadata": {
  "kernelspec": {
   "display_name": "Python 3 (ipykernel)",
   "language": "python",
   "name": "python3"
  },
  "language_info": {
   "codemirror_mode": {
    "name": "ipython",
    "version": 3
   },
   "file_extension": ".py",
   "mimetype": "text/x-python",
   "name": "python",
   "nbconvert_exporter": "python",
   "pygments_lexer": "ipython3",
   "version": "3.9.10"
  }
 },
 "nbformat": 4,
 "nbformat_minor": 5
}
